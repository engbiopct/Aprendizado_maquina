{
 "cells": [
  {
   "cell_type": "markdown",
   "metadata": {},
   "source": [
    "# Clasificador arvores de decisão\n"
   ]
  },
  {
   "cell_type": "code",
   "execution_count": null,
   "metadata": {},
   "outputs": [],
   "source": [
    "#importar os pacotes \n",
    "import numpy as np # Funçoes matemticas\n",
    "import pandas as pd # procesamento de dados\n",
    "import sklearn #Machine learning \n",
    "from sklearn import metrics #metricas de avaliacao \n",
    "import seaborn as sns #Vizualização dos dados\n",
    "import matplotlib.pyplot as plt # plot graficos\n",
    "from sklearn.datasets import load_iris # import dataset\n",
    "from sklearn.tree import DecisionTreeClassifier#Clasificador\n",
    "from sklearn.tree import export_graphviz\n",
    "#from sklearn.externals.six import StringIO\n",
    "#from IPython.display import Image \n",
    "from pydot import graph_from_dot_data\n",
    "import graphviz \n",
    "from sklearn import tree\n"
   ]
  },
  {
   "cell_type": "code",
   "execution_count": null,
   "metadata": {},
   "outputs": [],
   "source": [
    "#importa dados desde os conjunto de sklearn\n",
    "\n",
    "iris= load_iris()\n",
    "X=pd.DataFrame(iris.data, columns=iris.feature_names)\n",
    "y=pd.Categorical.from_codes(iris.target, iris.target_names)\n"
   ]
  },
  {
   "cell_type": "code",
   "execution_count": null,
   "metadata": {},
   "outputs": [],
   "source": [
    "#ver os dados\n",
    "X.head(10)# vizualizar as primeras instancias dos dados"
   ]
  },
  {
   "cell_type": "code",
   "execution_count": null,
   "metadata": {},
   "outputs": [],
   "source": [
    "X, y = load_iris(return_X_y=True)"
   ]
  },
  {
   "cell_type": "markdown",
   "metadata": {},
   "source": [
    "# Divisão dos dados para nosso experimetos \n",
    "Vamos criar 2 data-set:\n",
    "-Data-set de teste:  70-80% dos dados\n",
    "-Data-set de validação: 20-30% dos dados\n",
    "Para isso vamos usar o pacote train_test_split\n"
   ]
  },
  {
   "cell_type": "code",
   "execution_count": null,
   "metadata": {},
   "outputs": [],
   "source": [
    "#importar train_test_split que permite  dividir de forma aletoria\n",
    "#conjutntos de dados en treino e dados de validação\n",
    "from sklearn.model_selection import train_test_split\n",
    "X_treino,X_teste,y_treino,y_teste=train_test_split(X,y, test_size =0.2, random_state=7)"
   ]
  },
  {
   "cell_type": "code",
   "execution_count": null,
   "metadata": {},
   "outputs": [],
   "source": [
    "#Termos un data-set com 4 parametros e 150 instancias \n",
    "#print(x)\n",
    "print(\"X_traino: {}\\ny_traino instancias: {}\".format(X_treino.shape, y_treino.shape))\n",
    "print(\"X_teste : {}\\ny_teste instancias: {}\".format(X_teste.shape, y_teste.shape))\n",
    "\n"
   ]
  },
  {
   "cell_type": "markdown",
   "metadata": {},
   "source": [
    "# Configurar o clasificador "
   ]
  },
  {
   "cell_type": "code",
   "execution_count": null,
   "metadata": {},
   "outputs": [],
   "source": [
    "#inicializar o clasificador\n",
    "DeTre = DecisionTreeClassifier()"
   ]
  },
  {
   "cell_type": "code",
   "execution_count": null,
   "metadata": {},
   "outputs": [],
   "source": [
    "#Entrenar o clasificador com os dados de treino\n",
    "DeTre.fit(X_treino, y_treino)"
   ]
  },
  {
   "cell_type": "code",
   "execution_count": null,
   "metadata": {},
   "outputs": [],
   "source": [
    "#Usar o modelo para fazer a predição com o conjunto de teste\n",
    "pred_DeTre = DeTre.predict(X_teste)"
   ]
  },
  {
   "cell_type": "code",
   "execution_count": null,
   "metadata": {},
   "outputs": [],
   "source": [
    "#Vizualizar arvore de decisão\n",
    "dot_data = tree.export_graphviz(DeTre, out_file=None, \n",
    "                     feature_names=iris.feature_names,  \n",
    "                     class_names=iris.target_names,  \n",
    "                     filled=True, rounded=True,  \n",
    "                     special_characters=True) \n",
    "\n",
    "\n",
    "graph = graphviz.Source(dot_data)  \n",
    "graph "
   ]
  },
  {
   "cell_type": "code",
   "execution_count": null,
   "metadata": {},
   "outputs": [],
   "source": [
    "print(\"Acurracia: {:.2f}\".format(DeTre.score(X_teste, y_teste)))"
   ]
  },
  {
   "cell_type": "markdown",
   "metadata": {},
   "source": [
    "# Analisando o modelo\n"
   ]
  },
  {
   "cell_type": "code",
   "execution_count": null,
   "metadata": {},
   "outputs": [],
   "source": [
    "#obtencao da matrix de confusão\n",
    "\n",
    "\n",
    "from sklearn.metrics import confusion_matrix\n",
    "y_teste_M = pd.get_dummies(y_teste) # covertir os dados a matriz\n",
    "pred_DeTre_M = pd.get_dummies(pred_DeTre)\n",
    "species = np.array(y_teste_M).argmax(axis=1)\n",
    "predictions = np.array(pred_DeTre_M).argmax(axis=1)\n",
    "\n",
    "#matrix de confusão\n",
    "confusion_matrix(species, predictions)\n"
   ]
  },
  {
   "cell_type": "code",
   "execution_count": null,
   "metadata": {},
   "outputs": [],
   "source": []
  }
 ],
 "metadata": {
  "kernelspec": {
   "display_name": "Python 3",
   "language": "python",
   "name": "python3"
  },
  "language_info": {
   "codemirror_mode": {
    "name": "ipython",
    "version": 3
   },
   "file_extension": ".py",
   "mimetype": "text/x-python",
   "name": "python",
   "nbconvert_exporter": "python",
   "pygments_lexer": "ipython3",
   "version": "3.7.4"
  }
 },
 "nbformat": 4,
 "nbformat_minor": 2
}
