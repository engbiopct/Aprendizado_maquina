{
 "cells": [
  {
   "cell_type": "markdown",
   "metadata": {},
   "source": [
    "# Dataset e pre-processamento\n"
   ]
  },
  {
   "cell_type": "markdown",
   "metadata": {},
   "source": [
    "-Scikit-learn: é um pacote de  Python para Machine Learning baseado em NumPy, SciPy e matplotlib. Ele fornece ferramentas simples e eficientes para mineração e análise de dados. O SKLearn é acessível a todos e reutilizável em diversos contextos.\n",
    "\n",
    "-Numpy: é destinado ao processamento de grandes matrizes e matrizes multidimensionais, e uma extensa coleção de funções matemáticas de alto nível e métodos implementados possibilitam a execução de várias operações com esses objetos.\n",
    "\n",
    "-Pandas: é uma biblioteca Python que fornece estruturas de dados de alto nível e uma grande variedade de ferramentas para análise. A grande característica deste pacote é a capacidade de traduzir operações bastante complexas com dados em um ou dois comandos."
   ]
  },
  {
   "cell_type": "code",
   "execution_count": null,
   "metadata": {},
   "outputs": [],
   "source": [
    "#importar os pacotes \n",
    "import numpy as np # Funçoes matemticas\n",
    "import pandas as pd # procesamento de dados\n",
    "import sklearn #Machine learning \n",
    "from sklearn import metrics #metricas de avaliacao \n",
    "import seaborn as sns #Vizualização dos dados\n",
    "import matplotlib.pyplot as plt # plot graficos\n",
    "from sklearn.preprocessing import MinMaxScaler\n",
    "from sklearn.preprocessing import RobustScaler\n"
   ]
  },
  {
   "cell_type": "code",
   "execution_count": null,
   "metadata": {},
   "outputs": [],
   "source": [
    "#importa dados desde os conjunto de skleran\n",
    "data_set = pd.read_csv(\"/home/edianfranco/Dropbox/Univesidade Federal do Para/Laboratorio/Curso de Machine Learning/Iris.csv\")"
   ]
  },
  {
   "cell_type": "code",
   "execution_count": null,
   "metadata": {},
   "outputs": [],
   "source": [
    "#ver os dados\n",
    "data_set.head(10)# vizualizar as primeras instancias dos dados"
   ]
  },
  {
   "cell_type": "code",
   "execution_count": null,
   "metadata": {},
   "outputs": [],
   "source": [
    "#decribir estisticamente os dados \n",
    "data_set.describe()"
   ]
  },
  {
   "cell_type": "code",
   "execution_count": null,
   "metadata": {},
   "outputs": [],
   "source": [
    "#Vizualizar os paramateros dos  data set. \n",
    "\n",
    "sns.pairplot(data_set.drop(labels=[\"Id\"],axis=1),hue=\"Species\")\n"
   ]
  },
  {
   "cell_type": "markdown",
   "metadata": {},
   "source": [
    "# Divisão dos dados para nosso experimetos \n",
    "Vamos criar 2 data-set:\n",
    "-Data-set de teste:  70-80% dos dados\n",
    "-Data-set de validação: 20-30% dos dados\n",
    "Para isso vamos usar o pacote train_test_split\n"
   ]
  },
  {
   "cell_type": "code",
   "execution_count": null,
   "metadata": {},
   "outputs": [],
   "source": [
    "#Dividar os dataset\n",
    "\n",
    "X=data_set[['SepalLengthCm', 'SepalWidthCm', 'PetalLengthCm', 'PetalWidthCm']]\n",
    "y=data_set['Species']\n",
    "\n"
   ]
  },
  {
   "cell_type": "code",
   "execution_count": null,
   "metadata": {},
   "outputs": [],
   "source": [
    "#importar train_test_split que permite  dividir de forma aletoria\n",
    "#conjutntos de dados en treino e dados de validação\n",
    "from sklearn.model_selection import train_test_split\n",
    "X_treino,X_teste,y_treino,y_teste=train_test_split(X,y, test_size =0.2, random_state=4)"
   ]
  },
  {
   "cell_type": "code",
   "execution_count": null,
   "metadata": {},
   "outputs": [],
   "source": [
    "#Termos un data-set com 4 parametros e 150 instancias \n",
    "#print(x)\n",
    "print(\"X_traino: {}\\ny_traino instancias: {}\".format(X_treino.shape, y_treino.shape))\n",
    "print(\"X_teste : {}\\ny_teste instancias: {}\".format(X_teste.shape, y_teste.shape))\n",
    "\n"
   ]
  },
  {
   "cell_type": "markdown",
   "metadata": {},
   "source": [
    "# Configurar o clasificador "
   ]
  },
  {
   "cell_type": "code",
   "execution_count": null,
   "metadata": {},
   "outputs": [],
   "source": [
    "#importar o modulos do clasificador \n",
    "from sklearn.neighbors import KNeighborsClassifier"
   ]
  },
  {
   "cell_type": "code",
   "execution_count": null,
   "metadata": {},
   "outputs": [],
   "source": [
    "#inicizalizar o clsficador \n",
    "knn = KNeighborsClassifier(n_neighbors=1)"
   ]
  },
  {
   "cell_type": "code",
   "execution_count": null,
   "metadata": {},
   "outputs": [],
   "source": [
    "#Entrenar o clasificador com os dados de treino\n",
    "knn.fit(X_treino, y_treino)"
   ]
  },
  {
   "cell_type": "code",
   "execution_count": null,
   "metadata": {},
   "outputs": [],
   "source": [
    "#Usar o modelo para fazer a predição com o conjunto de teste\n",
    "y_pred = knn.predict(X_teste)"
   ]
  },
  {
   "cell_type": "code",
   "execution_count": null,
   "metadata": {},
   "outputs": [],
   "source": [
    "pd.concat([X_teste, y_teste, pd.Series(y_pred, name='Predição', index=X_teste.index)], \n",
    "          ignore_index=False, axis=1)"
   ]
  },
  {
   "cell_type": "code",
   "execution_count": null,
   "metadata": {},
   "outputs": [],
   "source": [
    "print(\"Acurracia: {:.2f}\".format(knn.score(X_teste, y_teste)))"
   ]
  },
  {
   "cell_type": "markdown",
   "metadata": {},
   "source": [
    "# Melhorar nosso modelo\n"
   ]
  },
  {
   "cell_type": "code",
   "execution_count": null,
   "metadata": {},
   "outputs": [],
   "source": []
  },
  {
   "cell_type": "code",
   "execution_count": null,
   "metadata": {},
   "outputs": [],
   "source": [
    "#Rodar o calsificador con um intervalo de numero para encontrar o melhor K\n",
    "\n",
    "k_rango=range(1,100)\n",
    "\n",
    "score_list=[]\n",
    "\n",
    "for i in k_rango:\n",
    "    knn = KNeighborsClassifier(n_neighbors=i)\n",
    "    knn.fit(X_treino, y_treino)\n",
    "    pred_i = knn.predict(X_teste)\n",
    "    score_list.append(metrics.accuracy_score(pred_i, y_teste))"
   ]
  },
  {
   "cell_type": "code",
   "execution_count": null,
   "metadata": {},
   "outputs": [],
   "source": [
    "#Plot o graficos\n",
    "\n",
    "plt.plot(k_rango,score_list)\n",
    "plt.xlabel(\"Valores de K para KNN\")\n",
    "plt.ylabel(\"Resultado da acurracia de teste\")"
   ]
  },
  {
   "cell_type": "code",
   "execution_count": null,
   "metadata": {},
   "outputs": [],
   "source": []
  }
 ],
 "metadata": {
  "kernelspec": {
   "display_name": "Python 3",
   "language": "python",
   "name": "python3"
  },
  "language_info": {
   "codemirror_mode": {
    "name": "ipython",
    "version": 3
   },
   "file_extension": ".py",
   "mimetype": "text/x-python",
   "name": "python",
   "nbconvert_exporter": "python",
   "pygments_lexer": "ipython3",
   "version": "3.7.4"
  }
 },
 "nbformat": 4,
 "nbformat_minor": 2
}
