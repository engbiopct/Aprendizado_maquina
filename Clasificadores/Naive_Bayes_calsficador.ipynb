{
 "cells": [
  {
   "cell_type": "markdown",
   "metadata": {},
   "source": [
    "# Clasificador Naives Bayes\n"
   ]
  },
  {
   "cell_type": "code",
   "execution_count": null,
   "metadata": {},
   "outputs": [],
   "source": [
    "#importar os pacotes \n",
    "import numpy as np # Funçoes matemticas\n",
    "import pandas as pd # procesamento de dados\n",
    "import sklearn #Machine learning \n",
    "from sklearn import metrics #metricas de avaliacao \n",
    "import seaborn as sns #Vizualização dos dados\n",
    "import matplotlib.pyplot as plt # plot graficos\n",
    "from sklearn.naive_bayes import GaussianNB #clasificadod\n",
    "from sklearn import model_selection\n",
    "#from sklearn.metrics import confusion_matrix #metricas de avaliação\n",
    "#from sklearn.metrics import accuracy_score\n"
   ]
  },
  {
   "cell_type": "code",
   "execution_count": null,
   "metadata": {},
   "outputs": [],
   "source": []
  },
  {
   "cell_type": "code",
   "execution_count": null,
   "metadata": {},
   "outputs": [],
   "source": [
    "#importa dados desde os conjunto de skleran\n",
    "data_set = pd.read_csv(\"/home/edianfranco/Dropbox/Univesidade Federal do Para/Laboratorio/Curso de Machine Learning/Iris.csv\")"
   ]
  },
  {
   "cell_type": "code",
   "execution_count": null,
   "metadata": {},
   "outputs": [],
   "source": [
    "#ver os dados\n",
    "data_set.head(10)# vizualizar as primeras instancias dos dados"
   ]
  },
  {
   "cell_type": "code",
   "execution_count": null,
   "metadata": {},
   "outputs": [],
   "source": [
    "#Discretizar valores \n",
    "data_set.describe()"
   ]
  },
  {
   "cell_type": "code",
   "execution_count": null,
   "metadata": {},
   "outputs": [],
   "source": [
    "#Vizualizar os paramateros dos  data set. \n",
    "\n",
    "sns.pairplot(data_set.drop(labels=[\"Id\"],axis=1),hue=\"Species\")\n"
   ]
  },
  {
   "cell_type": "code",
   "execution_count": null,
   "metadata": {},
   "outputs": [],
   "source": [
    "#Discretizar valores \n",
    "data_set.Species.replace(['Iris-setosa', 'Iris-versicolor', 'Iris-virginica'], [1, 2, 3], inplace=True)"
   ]
  },
  {
   "cell_type": "code",
   "execution_count": null,
   "metadata": {},
   "outputs": [],
   "source": [
    "data_set"
   ]
  },
  {
   "cell_type": "markdown",
   "metadata": {},
   "source": [
    "# Divisão dos dados para nosso experimetos \n",
    "Vamos criar 2 data-set:\n",
    "-Data-set de teste:  70-80% dos dados\n",
    "-Data-set de validação: 20-30% dos dados\n",
    "Para isso vamos usar o pacote train_test_split\n"
   ]
  },
  {
   "cell_type": "code",
   "execution_count": null,
   "metadata": {},
   "outputs": [],
   "source": [
    "#Dividar os dataset\n",
    "X=data_set[['SepalLengthCm', 'SepalWidthCm', 'PetalLengthCm', 'PetalWidthCm']]\n",
    "y=data_set['Species']"
   ]
  },
  {
   "cell_type": "code",
   "execution_count": null,
   "metadata": {},
   "outputs": [],
   "source": [
    "#importar train_test_split que permite  dividir de forma aletoria\n",
    "#conjutntos de dados en treino e dados de validação\n",
    "from sklearn.model_selection import train_test_split\n",
    "X_treino,X_teste,y_treino,y_teste=train_test_split(X,y, test_size =0.3, random_state=7)"
   ]
  },
  {
   "cell_type": "code",
   "execution_count": null,
   "metadata": {},
   "outputs": [],
   "source": [
    "#Termos un data-set com 4 parametros e 150 instancias \n",
    "#print(x)\n",
    "print(\"X_traino: {}\\ny_traino instancias: {}\".format(X_treino.shape, y_treino.shape))\n",
    "print(\"X_teste : {}\\ny_teste instancias: {}\".format(X_teste.shape, y_teste.shape))\n",
    "\n"
   ]
  },
  {
   "cell_type": "markdown",
   "metadata": {},
   "source": [
    "# Configurar o clasificador "
   ]
  },
  {
   "cell_type": "code",
   "execution_count": null,
   "metadata": {},
   "outputs": [],
   "source": [
    "#inicializar o clasificador\n",
    "clf = GaussianNB()"
   ]
  },
  {
   "cell_type": "code",
   "execution_count": null,
   "metadata": {},
   "outputs": [],
   "source": []
  },
  {
   "cell_type": "code",
   "execution_count": null,
   "metadata": {},
   "outputs": [],
   "source": [
    "#Entrenar o clasificador com os dados de treino\n",
    "clf.fit(X_treino, y_treino)"
   ]
  },
  {
   "cell_type": "code",
   "execution_count": null,
   "metadata": {},
   "outputs": [],
   "source": [
    "#Usar o modelo para fazer a predição com o conjunto de teste\n",
    "pred_clf = clf.predict(X_teste)"
   ]
  },
  {
   "cell_type": "code",
   "execution_count": null,
   "metadata": {},
   "outputs": [],
   "source": [
    "pd.concat([X_teste, y_teste, pd.Series(pred_clf, name='Predição', index=X_teste.index)], \n",
    "          ignore_index=False, axis=1)"
   ]
  },
  {
   "cell_type": "code",
   "execution_count": null,
   "metadata": {},
   "outputs": [],
   "source": [
    "print(\"Acurracia: {:.2f}\".format(clf.score(X_teste, y_teste)))"
   ]
  },
  {
   "cell_type": "markdown",
   "metadata": {},
   "source": [
    "# Melhorar nosso modelo\n"
   ]
  },
  {
   "cell_type": "code",
   "execution_count": null,
   "metadata": {},
   "outputs": [],
   "source": [
    "print(score_list)"
   ]
  },
  {
   "cell_type": "code",
   "execution_count": null,
   "metadata": {},
   "outputs": [],
   "source": [
    "#Performa por cross validation\n",
    "kfold = model_selection.KFold(n_splits=20, random_state=7)"
   ]
  },
  {
   "cell_type": "code",
   "execution_count": null,
   "metadata": {},
   "outputs": [],
   "source": [
    "scoring = 'accuracy'\n",
    "cv_results = model_selection.cross_val_score(GaussianNB(), X_treino, y_treino, cv=kfold, scoring=scoring)"
   ]
  },
  {
   "cell_type": "code",
   "execution_count": null,
   "metadata": {},
   "outputs": [],
   "source": []
  },
  {
   "cell_type": "code",
   "execution_count": null,
   "metadata": {},
   "outputs": [],
   "source": [
    "#Impressao da validacao \n",
    "msg = \"%s: %f (%f)\" % ('Acurracia', cv_results.mean(), cv_results.std())\n",
    "print(msg)"
   ]
  },
  {
   "cell_type": "code",
   "execution_count": null,
   "metadata": {},
   "outputs": [],
   "source": []
  }
 ],
 "metadata": {
  "kernelspec": {
   "display_name": "Python 3",
   "language": "python",
   "name": "python3"
  },
  "language_info": {
   "codemirror_mode": {
    "name": "ipython",
    "version": 3
   },
   "file_extension": ".py",
   "mimetype": "text/x-python",
   "name": "python",
   "nbconvert_exporter": "python",
   "pygments_lexer": "ipython3",
   "version": "3.7.4"
  }
 },
 "nbformat": 4,
 "nbformat_minor": 2
}
